{
 "cells": [
  {
   "cell_type": "markdown",
   "id": "a874a511",
   "metadata": {},
   "source": [
    "# Practical 8: Implement Decision tree classifier in python."
   ]
  },
  {
   "cell_type": "code",
   "execution_count": 1,
   "id": "09c8cd1e",
   "metadata": {},
   "outputs": [],
   "source": [
    "import pandas as pd\n",
    "import numpy as np\n",
    "import matplotlib.pyplot as plt"
   ]
  },
  {
   "cell_type": "code",
   "execution_count": 2,
   "id": "815edf2b",
   "metadata": {},
   "outputs": [
    {
     "data": {
      "text/html": [
       "<div>\n",
       "<style scoped>\n",
       "    .dataframe tbody tr th:only-of-type {\n",
       "        vertical-align: middle;\n",
       "    }\n",
       "\n",
       "    .dataframe tbody tr th {\n",
       "        vertical-align: top;\n",
       "    }\n",
       "\n",
       "    .dataframe thead th {\n",
       "        text-align: right;\n",
       "    }\n",
       "</style>\n",
       "<table border=\"1\" class=\"dataframe\">\n",
       "  <thead>\n",
       "    <tr style=\"text-align: right;\">\n",
       "      <th></th>\n",
       "      <th>Id</th>\n",
       "      <th>SepalLengthCm</th>\n",
       "      <th>SepalWidthCm</th>\n",
       "      <th>PetalLengthCm</th>\n",
       "      <th>PetalWidthCm</th>\n",
       "      <th>Species</th>\n",
       "    </tr>\n",
       "  </thead>\n",
       "  <tbody>\n",
       "    <tr>\n",
       "      <th>0</th>\n",
       "      <td>1</td>\n",
       "      <td>5.1</td>\n",
       "      <td>3.5</td>\n",
       "      <td>1.4</td>\n",
       "      <td>0.2</td>\n",
       "      <td>Iris-setosa</td>\n",
       "    </tr>\n",
       "    <tr>\n",
       "      <th>1</th>\n",
       "      <td>2</td>\n",
       "      <td>4.9</td>\n",
       "      <td>3.0</td>\n",
       "      <td>1.4</td>\n",
       "      <td>0.2</td>\n",
       "      <td>Iris-setosa</td>\n",
       "    </tr>\n",
       "    <tr>\n",
       "      <th>2</th>\n",
       "      <td>3</td>\n",
       "      <td>4.7</td>\n",
       "      <td>3.2</td>\n",
       "      <td>1.3</td>\n",
       "      <td>0.2</td>\n",
       "      <td>Iris-setosa</td>\n",
       "    </tr>\n",
       "    <tr>\n",
       "      <th>3</th>\n",
       "      <td>4</td>\n",
       "      <td>4.6</td>\n",
       "      <td>3.1</td>\n",
       "      <td>1.5</td>\n",
       "      <td>0.2</td>\n",
       "      <td>Iris-setosa</td>\n",
       "    </tr>\n",
       "    <tr>\n",
       "      <th>4</th>\n",
       "      <td>5</td>\n",
       "      <td>5.0</td>\n",
       "      <td>3.6</td>\n",
       "      <td>1.4</td>\n",
       "      <td>0.2</td>\n",
       "      <td>Iris-setosa</td>\n",
       "    </tr>\n",
       "  </tbody>\n",
       "</table>\n",
       "</div>"
      ],
      "text/plain": [
       "   Id  SepalLengthCm  SepalWidthCm  PetalLengthCm  PetalWidthCm      Species\n",
       "0   1            5.1           3.5            1.4           0.2  Iris-setosa\n",
       "1   2            4.9           3.0            1.4           0.2  Iris-setosa\n",
       "2   3            4.7           3.2            1.3           0.2  Iris-setosa\n",
       "3   4            4.6           3.1            1.5           0.2  Iris-setosa\n",
       "4   5            5.0           3.6            1.4           0.2  Iris-setosa"
      ]
     },
     "execution_count": 2,
     "metadata": {},
     "output_type": "execute_result"
    }
   ],
   "source": [
    "df = pd.read_csv(\"datasets/Iris.csv\")\n",
    "df.head()"
   ]
  },
  {
   "cell_type": "code",
   "execution_count": 3,
   "id": "79056ada",
   "metadata": {},
   "outputs": [
    {
     "data": {
      "text/plain": [
       "(   Id  SepalLengthCm  SepalWidthCm  PetalLengthCm  PetalWidthCm\n",
       " 0   1            5.1           3.5            1.4           0.2\n",
       " 1   2            4.9           3.0            1.4           0.2\n",
       " 2   3            4.7           3.2            1.3           0.2\n",
       " 3   4            4.6           3.1            1.5           0.2\n",
       " 4   5            5.0           3.6            1.4           0.2,\n",
       " 0    Iris-setosa\n",
       " 1    Iris-setosa\n",
       " 2    Iris-setosa\n",
       " 3    Iris-setosa\n",
       " 4    Iris-setosa\n",
       " Name: Species, dtype: object)"
      ]
     },
     "execution_count": 3,
     "metadata": {},
     "output_type": "execute_result"
    }
   ],
   "source": [
    "X = df.drop(['Species'], axis=1)\n",
    "y = df['Species']\n",
    "\n",
    "X.head(), y.head()"
   ]
  },
  {
   "cell_type": "markdown",
   "id": "18c96a62",
   "metadata": {},
   "source": [
    "# Encoding Categorical Data"
   ]
  },
  {
   "cell_type": "code",
   "execution_count": 4,
   "id": "a3ee480c",
   "metadata": {},
   "outputs": [
    {
     "data": {
      "text/plain": [
       "array([0, 0, 0, 0, 0, 0, 0, 0, 0, 0, 0, 0, 0, 0, 0, 0, 0, 0, 0, 0, 0, 0,\n",
       "       0, 0, 0, 0, 0, 0, 0, 0, 0, 0, 0, 0, 0, 0, 0, 0, 0, 0, 0, 0, 0, 0,\n",
       "       0, 0, 0, 0, 0, 0, 1, 1, 1, 1, 1, 1, 1, 1, 1, 1, 1, 1, 1, 1, 1, 1,\n",
       "       1, 1, 1, 1, 1, 1, 1, 1, 1, 1, 1, 1, 1, 1, 1, 1, 1, 1, 1, 1, 1, 1,\n",
       "       1, 1, 1, 1, 1, 1, 1, 1, 1, 1, 1, 1, 2, 2, 2, 2, 2, 2, 2, 2, 2, 2,\n",
       "       2, 2, 2, 2, 2, 2, 2, 2, 2, 2, 2, 2, 2, 2, 2, 2, 2, 2, 2, 2, 2, 2,\n",
       "       2, 2, 2, 2, 2, 2, 2, 2, 2, 2, 2, 2, 2, 2, 2, 2, 2, 2])"
      ]
     },
     "execution_count": 4,
     "metadata": {},
     "output_type": "execute_result"
    }
   ],
   "source": [
    "from sklearn.preprocessing import LabelEncoder\n",
    "le = LabelEncoder()\n",
    "y = le.fit_transform(y)\n",
    "y"
   ]
  },
  {
   "cell_type": "code",
   "execution_count": 5,
   "id": "ec37fea1",
   "metadata": {},
   "outputs": [],
   "source": [
    "from sklearn.model_selection import train_test_split\n",
    "x_train, x_test, y_train, y_test = train_test_split(X, y, test_size=0.2, random_state=42)"
   ]
  },
  {
   "cell_type": "code",
   "execution_count": 6,
   "id": "63d85ed3",
   "metadata": {},
   "outputs": [
    {
     "data": {
      "text/plain": [
       "(      Id  SepalLengthCm  SepalWidthCm  PetalLengthCm  PetalWidthCm\n",
       " 22    23            4.6           3.6            1.0           0.2\n",
       " 15    16            5.7           4.4            1.5           0.4\n",
       " 65    66            6.7           3.1            4.4           1.4\n",
       " 11    12            4.8           3.4            1.6           0.2\n",
       " 42    43            4.4           3.2            1.3           0.2\n",
       " ..   ...            ...           ...            ...           ...\n",
       " 71    72            6.1           2.8            4.0           1.3\n",
       " 106  107            4.9           2.5            4.5           1.7\n",
       " 14    15            5.8           4.0            1.2           0.2\n",
       " 92    93            5.8           2.6            4.0           1.2\n",
       " 102  103            7.1           3.0            5.9           2.1\n",
       " \n",
       " [120 rows x 5 columns],\n",
       "       Id  SepalLengthCm  SepalWidthCm  PetalLengthCm  PetalWidthCm\n",
       " 73    74            6.1           2.8            4.7           1.2\n",
       " 18    19            5.7           3.8            1.7           0.3\n",
       " 118  119            7.7           2.6            6.9           2.3\n",
       " 78    79            6.0           2.9            4.5           1.5\n",
       " 76    77            6.8           2.8            4.8           1.4\n",
       " 31    32            5.4           3.4            1.5           0.4\n",
       " 64    65            5.6           2.9            3.6           1.3\n",
       " 141  142            6.9           3.1            5.1           2.3\n",
       " 68    69            6.2           2.2            4.5           1.5\n",
       " 82    83            5.8           2.7            3.9           1.2\n",
       " 110  111            6.5           3.2            5.1           2.0\n",
       " 12    13            4.8           3.0            1.4           0.1\n",
       " 36    37            5.5           3.5            1.3           0.2\n",
       " 9     10            4.9           3.1            1.5           0.1\n",
       " 19    20            5.1           3.8            1.5           0.3\n",
       " 56    57            6.3           3.3            4.7           1.6\n",
       " 104  105            6.5           3.0            5.8           2.2\n",
       " 69    70            5.6           2.5            3.9           1.1\n",
       " 55    56            5.7           2.8            4.5           1.3\n",
       " 132  133            6.4           2.8            5.6           2.2\n",
       " 29    30            4.7           3.2            1.6           0.2\n",
       " 127  128            6.1           3.0            4.9           1.8\n",
       " 26    27            5.0           3.4            1.6           0.4\n",
       " 128  129            6.4           2.8            5.6           2.1\n",
       " 131  132            7.9           3.8            6.4           2.0\n",
       " 145  146            6.7           3.0            5.2           2.3\n",
       " 108  109            6.7           2.5            5.8           1.8\n",
       " 143  144            6.8           3.2            5.9           2.3\n",
       " 45    46            4.8           3.0            1.4           0.3\n",
       " 30    31            4.8           3.1            1.6           0.2)"
      ]
     },
     "execution_count": 6,
     "metadata": {},
     "output_type": "execute_result"
    }
   ],
   "source": [
    "x_train, x_test"
   ]
  },
  {
   "cell_type": "markdown",
   "id": "65690bf5",
   "metadata": {},
   "source": [
    "# Train the model"
   ]
  },
  {
   "cell_type": "code",
   "execution_count": 7,
   "id": "44571bfd",
   "metadata": {},
   "outputs": [
    {
     "data": {
      "text/plain": [
       "DecisionTreeClassifier(criterion='entropy')"
      ]
     },
     "execution_count": 7,
     "metadata": {},
     "output_type": "execute_result"
    }
   ],
   "source": [
    "from sklearn.tree import DecisionTreeClassifier\n",
    "model = DecisionTreeClassifier(criterion = 'entropy')\n",
    "model.fit(x_train, y_train)"
   ]
  },
  {
   "cell_type": "markdown",
   "id": "7363fb32",
   "metadata": {},
   "source": [
    "# predict test values and calculate metrics"
   ]
  },
  {
   "cell_type": "code",
   "execution_count": 8,
   "id": "f55b4c38",
   "metadata": {},
   "outputs": [
    {
     "data": {
      "text/plain": [
       "1.0"
      ]
     },
     "execution_count": 8,
     "metadata": {},
     "output_type": "execute_result"
    }
   ],
   "source": [
    "from sklearn.metrics import accuracy_score, confusion_matrix\n",
    "y_pred = model.predict(x_test)\n",
    "accuraccy = accuracy_score(y_test, y_pred)\n",
    "accuraccy"
   ]
  },
  {
   "cell_type": "code",
   "execution_count": 9,
   "id": "8b78a3b1",
   "metadata": {},
   "outputs": [
    {
     "data": {
      "text/plain": [
       "array([[10,  0,  0],\n",
       "       [ 0,  9,  0],\n",
       "       [ 0,  0, 11]], dtype=int64)"
      ]
     },
     "execution_count": 9,
     "metadata": {},
     "output_type": "execute_result"
    }
   ],
   "source": [
    "cm = confusion_matrix(y_test, y_pred)\n",
    "cm"
   ]
  },
  {
   "cell_type": "code",
   "execution_count": null,
   "id": "b13804e9",
   "metadata": {},
   "outputs": [],
   "source": []
  }
 ],
 "metadata": {
  "kernelspec": {
   "display_name": "Python 3",
   "language": "python",
   "name": "python3"
  },
  "language_info": {
   "codemirror_mode": {
    "name": "ipython",
    "version": 3
   },
   "file_extension": ".py",
   "mimetype": "text/x-python",
   "name": "python",
   "nbconvert_exporter": "python",
   "pygments_lexer": "ipython3",
   "version": "3.7.6"
  }
 },
 "nbformat": 4,
 "nbformat_minor": 5
}
